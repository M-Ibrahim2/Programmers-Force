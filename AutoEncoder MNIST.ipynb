{
 "cells": [
  {
   "cell_type": "markdown",
   "id": "6825bd76",
   "metadata": {},
   "source": [
    "<b>Modules"
   ]
  },
  {
   "cell_type": "code",
   "execution_count": 1,
   "id": "11a598ec",
   "metadata": {},
   "outputs": [],
   "source": [
    "import numpy as np\n",
    "import pandas as pd\n",
    "import matplotlib.pyplot as plt\n",
    "import seaborn as sns\n",
    "import random\n",
    "import os\n",
    "from tensorflow.keras.datasets import mnist\n",
    "from tensorflow.keras.models import Model\n",
    "from tensorflow.keras.utils import to_categorical\n",
    "from tensorflow.keras.models import Sequential\n",
    "from tensorflow.keras.layers import Conv2D , Flatten\n",
    "from tensorflow.keras.layers import Input\n",
    "from tensorflow.keras.layers import Dense , MaxPooling2D"
   ]
  },
  {
   "cell_type": "markdown",
   "id": "a0e68616",
   "metadata": {},
   "source": [
    "<b>Load MNIST Dataset"
   ]
  },
  {
   "cell_type": "code",
   "execution_count": 2,
   "id": "f3496774",
   "metadata": {},
   "outputs": [
    {
     "name": "stdout",
     "output_type": "stream",
     "text": [
      "Shape of the X Train is : (60000, 28, 28)\n",
      "Shape of the Y Train is : (60000,)\n",
      "Shape of the X Test  is : (10000, 28, 28)\n",
      "Shape of the Y Test  is : (10000,)\n"
     ]
    }
   ],
   "source": [
    "# Load the Dataset\n",
    "(x_train , y_train) , (x_test , y_test) = mnist.load_data()\n",
    "\n",
    "# Display the Shape of the Dataset\n",
    "print(f\"Shape of the X Train is : {x_train.shape}\")\n",
    "print(f\"Shape of the Y Train is : {y_train.shape}\")\n",
    "print(f\"Shape of the X Test  is : {x_test.shape}\")\n",
    "print(f\"Shape of the Y Test  is : {y_test.shape}\")"
   ]
  },
  {
   "cell_type": "markdown",
   "id": "e19b2c56",
   "metadata": {},
   "source": [
    "<b>Visualization MNIST Dataset"
   ]
  },
  {
   "cell_type": "code",
   "execution_count": 3,
   "id": "f70b03e7",
   "metadata": {},
   "outputs": [
    {
     "data": {
      "image/png": "[encoded data removed]",
      "text/plain": [
       "<Figure size 720x720 with 20 Axes>"
      ]
     },
     "metadata": {},
     "output_type": "display_data"
    }
   ],
   "source": [
    "# Set the Figure\n",
    "plt.figure(figsize = (10,10))\n",
    "\n",
    "# Display the 20 Images with Randomly\n",
    "for index in range(20):\n",
    "    plt.subplot(4,5,index+1)\n",
    "    img_no = random.randint(0,60000)\n",
    "    plt.imshow(x_train[img_no] , cmap = \"gray\")\n",
    "    plt.xticks([])\n",
    "    plt.yticks([])\n",
    "    plt.title(f\"Label : {y_train[img_no]}\")\n",
    "plt.show()"
   ]
  },
  {
   "cell_type": "markdown",
   "id": "deebe8f1",
   "metadata": {},
   "source": [
    "<b>Image Preprocessing"
   ]
  },
  {
   "cell_type": "code",
   "execution_count": 4,
   "id": "cfdba1ac",
   "metadata": {},
   "outputs": [
    {
     "name": "stdout",
     "output_type": "stream",
     "text": [
      "Shape of the X Train is : (60000, 784)\n",
      "Shape of the Y Train is : (60000, 10)\n",
      "Shape of the X Test  is : (10000, 784)\n",
      "Shape of the Y Test  is : (10000, 10)\n"
     ]
    }
   ],
   "source": [
    "# Chnage the Type of Images (convert into floating point)\n",
    "x_train = x_train.astype(np.float64)\n",
    "x_test  = x_test.astype(np.float64)\n",
    "\n",
    "# Convert the Label into OneHotEncoder\n",
    "y_train = to_categorical(y_train , num_classes=10)\n",
    "y_test  = to_categorical(y_test  , num_classes=10)\n",
    "\n",
    "# Normalize the Data\n",
    "x_train /= 255\n",
    "x_test  /= 255\n",
    "\n",
    "# Reshape\n",
    "x_train = x_train.reshape(len(x_train) , 28*28)\n",
    "x_test  = x_test.reshape(len(x_test) , 28*28)\n",
    "\n",
    "# Display the Shape of the Training and Testing\n",
    "print(f\"Shape of the X Train is : {x_train.shape}\")\n",
    "print(f\"Shape of the Y Train is : {y_train.shape}\")\n",
    "print(f\"Shape of the X Test  is : {x_test.shape}\")\n",
    "print(f\"Shape of the Y Test  is : {y_test.shape}\")"
   ]
  },
  {
   "cell_type": "markdown",
   "id": "054eb97c",
   "metadata": {},
   "source": [
    "<b>Implementation of AutoEncoder"
   ]
  },
  {
   "cell_type": "code",
   "execution_count": 5,
   "id": "1efe1dea",
   "metadata": {},
   "outputs": [
    {
     "name": "stdout",
     "output_type": "stream",
     "text": [
      "Model: \"model\"\n",
      "_________________________________________________________________\n",
      " Layer (type)                Output Shape              Param #   \n",
      "=================================================================\n",
      " input_1 (InputLayer)        [(None, 784)]             0         \n",
      "                                                                 \n",
      " dense (Dense)               (None, 128)               100480    \n",
      "                                                                 \n",
      " dense_1 (Dense)             (None, 64)                8256      \n",
      "                                                                 \n",
      " dense_2 (Dense)             (None, 30)                1950      \n",
      "                                                                 \n",
      " BOT (Dense)                 (None, 20)                620       \n",
      "                                                                 \n",
      " BOT1 (Dense)                (None, 30)                630       \n",
      "                                                                 \n",
      " BOT2 (Dense)                (None, 64)                1984      \n",
      "                                                                 \n",
      " BOT3 (Dense)                (None, 128)               8320      \n",
      "                                                                 \n",
      " output (Dense)              (None, 784)               101136    \n",
      "                                                                 \n",
      "=================================================================\n",
      "Total params: 223,376\n",
      "Trainable params: 223,376\n",
      "Non-trainable params: 0\n",
      "_________________________________________________________________\n"
     ]
    }
   ],
   "source": [
    "# Create the Encoder Part\n",
    "input_image = Input(shape=(784))\n",
    "encoder = Dense(128 , activation = \"relu\")(input_image)\n",
    "encoder = Dense(64  , activation = \"relu\")(encoder)\n",
    "encoder = Dense(30  , activation = \"relu\")(encoder)\n",
    "\n",
    "# Create the LATIN Representation\n",
    "encoder = Dense(20 , activation = \"relu\" , name = \"BOT\")(encoder)\n",
    "\n",
    "\n",
    "# Create the Decorder Part\n",
    "decoder = Dense(30  , activation = \"relu\" , name = \"BOT1\")(encoder)\n",
    "decoder = Dense(64  , activation = \"relu\" , name = \"BOT2\")(decoder)\n",
    "decoder = Dense(128 , activation = \"relu\" , name = \"BOT3\")(decoder)\n",
    "decoder = Dense(784 , activation = \"sigmoid\" , name = \"output\")(decoder)\n",
    "\n",
    "# Create the Model\n",
    "AutoEncoder = Model(inputs = input_image , outputs = decoder)\n",
    "AutoEncoder.compile(optimizer = \"adam\" , loss = \"binary_crossentropy\")\n",
    "\n",
    "# Display the Summary of the Model\n",
    "AutoEncoder.summary()"
   ]
  },
  {
   "cell_type": "code",
   "execution_count": 6,
   "id": "c5048ec6",
   "metadata": {},
   "outputs": [
    {
     "name": "stdout",
     "output_type": "stream",
     "text": [
      "Model: \"model_1\"\n",
      "_________________________________________________________________\n",
      " Layer (type)                Output Shape              Param #   \n",
      "=================================================================\n",
      " input_1 (InputLayer)        [(None, 784)]             0         \n",
      "                                                                 \n",
      " dense (Dense)               (None, 128)               100480    \n",
      "                                                                 \n",
      " dense_1 (Dense)             (None, 64)                8256      \n",
      "                                                                 \n",
      " dense_2 (Dense)             (None, 30)                1950      \n",
      "                                                                 \n",
      " BOT (Dense)                 (None, 20)                620       \n",
      "                                                                 \n",
      "=================================================================\n",
      "Total params: 111,306\n",
      "Trainable params: 111,306\n",
      "Non-trainable params: 0\n",
      "_________________________________________________________________\n"
     ]
    }
   ],
   "source": [
    "# Extract the Encoder Part in the AutoEncoder\n",
    "EncoderModel = Model(inputs = input_image , outputs = AutoEncoder.get_layer(\"BOT\").output)\n",
    "\n",
    "# Display the Summary of the Encoder Model\n",
    "EncoderModel.summary()"
   ]
  },
  {
   "cell_type": "code",
   "execution_count": 7,
   "id": "a30572ea",
   "metadata": {
    "collapsed": true
   },
   "outputs": [
    {
     "name": "stdout",
     "output_type": "stream",
     "text": [
      "Model: \"model_2\"\n",
      "_________________________________________________________________\n",
      " Layer (type)                Output Shape              Param #   \n",
      "=================================================================\n",
      " input_2 (InputLayer)        [(None, 20)]              0         \n",
      "                                                                 \n",
      " BOT1 (Dense)                (None, 30)                630       \n",
      "                                                                 \n",
      " BOT2 (Dense)                (None, 64)                1984      \n",
      "                                                                 \n",
      " BOT3 (Dense)                (None, 128)               8320      \n",
      "                                                                 \n",
      " output (Dense)              (None, 784)               101136    \n",
      "                                                                 \n",
      "=================================================================\n",
      "Total params: 112,070\n",
      "Trainable params: 112,070\n",
      "Non-trainable params: 0\n",
      "_________________________________________________________________\n"
     ]
    }
   ],
   "source": [
    "# Extract the Decoder Part in the AutoEncoder\n",
    "encoder_output = Input(shape=(20,))\n",
    "decoder = AutoEncoder.get_layer(\"BOT1\")(encoder_output)\n",
    "decoder = AutoEncoder.get_layer(\"BOT2\")(decoder)\n",
    "decoder = AutoEncoder.get_layer(\"BOT3\")(decoder)\n",
    "decoder = AutoEncoder.get_layer(\"output\")(decoder)\n",
    "\n",
    "DecoderModel = Model(inputs = encoder_output , outputs = decoder)\n",
    "\n",
    "# Display the Summary of the Decoder Model\n",
    "DecoderModel.summary()"
   ]
  },
  {
   "cell_type": "markdown",
   "id": "b1b4b74c",
   "metadata": {},
   "source": [
    "<b>Train the AutoEncoder Model"
   ]
  },
  {
   "cell_type": "code",
   "execution_count": 8,
   "id": "faef456b",
   "metadata": {
    "collapsed": true
   },
   "outputs": [
    {
     "name": "stdout",
     "output_type": "stream",
     "text": [
      "Epoch 1/20\n",
      "938/938 [==============================] - 7s 6ms/step - loss: 0.1971\n",
      "Epoch 2/20\n",
      "938/938 [==============================] - 5s 5ms/step - loss: 0.1421\n",
      "Epoch 3/20\n",
      "938/938 [==============================] - 7s 7ms/step - loss: 0.1298\n",
      "Epoch 4/20\n",
      "938/938 [==============================] - 6s 7ms/step - loss: 0.1220\n",
      "Epoch 5/20\n",
      "938/938 [==============================] - 6s 7ms/step - loss: 0.1176\n",
      "Epoch 6/20\n",
      "938/938 [==============================] - 7s 7ms/step - loss: 0.1143\n",
      "Epoch 7/20\n",
      "938/938 [==============================] - 6s 6ms/step - loss: 0.1121\n",
      "Epoch 8/20\n",
      "938/938 [==============================] - 6s 6ms/step - loss: 0.1105\n",
      "Epoch 9/20\n",
      "938/938 [==============================] - 7s 8ms/step - loss: 0.1093\n",
      "Epoch 10/20\n",
      "938/938 [==============================] - 7s 7ms/step - loss: 0.1083\n",
      "Epoch 11/20\n",
      "938/938 [==============================] - 6s 6ms/step - loss: 0.1074\n",
      "Epoch 12/20\n",
      "938/938 [==============================] - 6s 6ms/step - loss: 0.1067\n",
      "Epoch 13/20\n",
      "938/938 [==============================] - 5s 6ms/step - loss: 0.1058\n",
      "Epoch 14/20\n",
      "938/938 [==============================] - 6s 6ms/step - loss: 0.1049\n",
      "Epoch 15/20\n",
      "938/938 [==============================] - 5s 6ms/step - loss: 0.1042\n",
      "Epoch 16/20\n",
      "938/938 [==============================] - 5s 6ms/step - loss: 0.1035\n",
      "Epoch 17/20\n",
      "938/938 [==============================] - 6s 6ms/step - loss: 0.1027\n",
      "Epoch 18/20\n",
      "938/938 [==============================] - 6s 6ms/step - loss: 0.1017\n",
      "Epoch 19/20\n",
      "938/938 [==============================] - 6s 6ms/step - loss: 0.1009\n",
      "Epoch 20/20\n",
      "938/938 [==============================] - 6s 6ms/step - loss: 0.1003\n"
     ]
    }
   ],
   "source": [
    "history = AutoEncoder.fit(x_train , x_train , batch_size = 64 , epochs = 20)"
   ]
  },
  {
   "cell_type": "markdown",
   "id": "f06f35b9",
   "metadata": {},
   "source": [
    "<b>Predict the Results"
   ]
  },
  {
   "cell_type": "code",
   "execution_count": 9,
   "id": "47e977b1",
   "metadata": {
    "collapsed": true
   },
   "outputs": [
    {
     "name": "stdout",
     "output_type": "stream",
     "text": [
      "313/313 [==============================] - 1s 1ms/step\n",
      "Reduce Dimensions of the Encoder Test Images is : (10000, 20)\n"
     ]
    }
   ],
   "source": [
    "# Reduce the Dimensions of the Image\n",
    "encoderImages = EncoderModel.predict(x_test)\n",
    "\n",
    "# Display the Shape of the Encoder Images\n",
    "print(f\"Reduce Dimensions of the Encoder Test Images is : {encoderImages.shape}\")"
   ]
  },
  {
   "cell_type": "code",
   "execution_count": 11,
   "id": "39e82869",
   "metadata": {},
   "outputs": [
    {
     "name": "stdout",
     "output_type": "stream",
     "text": [
      "313/313 [==============================] - 1s 2ms/step\n",
      "Recreate the Test Images with Decoder : (10000, 784)\n"
     ]
    }
   ],
   "source": [
    "# Recreate the Actuall Image with the Help of Decoder\n",
    "DecoderImages = DecoderModel.predict(encoderImages)\n",
    "\n",
    "# Display the Shape of the Decoder Images\n",
    "print(f\"Recreate the Test Images with Decoder : {DecoderImages.shape}\")"
   ]
  },
  {
   "cell_type": "markdown",
   "id": "72e2621d",
   "metadata": {},
   "source": [
    "<b>Visualization the Decoder Generate Images"
   ]
  },
  {
   "cell_type": "code",
   "execution_count": 16,
   "id": "b78d828c",
   "metadata": {},
   "outputs": [
    {
     "data": {
      "image/png": "[encoded data removed]",
      "text/plain": [
       "<Figure size 720x720 with 12 Axes>"
      ]
     },
     "metadata": {},
     "output_type": "display_data"
    }
   ],
   "source": [
    "# Display the Decoder Generate Images\n",
    "plt.figure(figsize = (10,10))\n",
    "\n",
    "for index in range(12):\n",
    "    plt.subplot(3,4,index + 1)\n",
    "    choice = random.randint(0,10000)\n",
    "    plt.imshow(DecoderImages[choice].reshape(28,28) , cmap = \"gray\")\n",
    "    plt.xticks([])\n",
    "    plt.yticks([])\n",
    "plt.show()"
   ]
  }
 ],
 "metadata": {
  "kernelspec": {
   "display_name": "Python 3 (ipykernel)",
   "language": "python",
   "name": "python3"
  },
  "language_info": {
   "codemirror_mode": {
    "name": "ipython",
    "version": 3
   },
   "file_extension": ".py",
   "mimetype": "text/x-python",
   "name": "python",
   "nbconvert_exporter": "python",
   "pygments_lexer": "ipython3",
   "version": "3.9.12"
  }
 },
 "nbformat": 4,
 "nbformat_minor": 5
}
